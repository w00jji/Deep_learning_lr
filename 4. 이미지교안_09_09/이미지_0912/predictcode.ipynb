{
 "cells": [
  {
   "cell_type": "code",
   "execution_count": null,
   "metadata": {},
   "outputs": [],
   "source": []
  },
  {
   "cell_type": "code",
   "execution_count": null,
   "metadata": {},
   "outputs": [],
   "source": [
    "!pip install easyocr"
   ]
  },
  {
   "cell_type": "code",
   "execution_count": 1,
   "metadata": {},
   "outputs": [
    {
     "name": "stdout",
     "output_type": "stream",
     "text": [
      "frame:225, Detected text: 371도2250\n",
      "frame:225,Carcolor: white\n",
      "frame:240, Detected text: 371도2250\n",
      "frame:240,Carcolor: white\n",
      "frame:255, Detected text: 371도2250\n",
      "frame:255,Carcolor: white\n"
     ]
    },
    {
     "data": {
      "image/png": "[encoded data removed]",
      "text/plain": [
       "<Figure size 640x480 with 1 Axes>"
      ]
     },
     "metadata": {},
     "output_type": "display_data"
    }
   ],
   "source": [
    "import cv2\n",
    "import numpy as np\n",
    "import matplotlib.pyplot as plt\n",
    "from ultralytics import YOLO\n",
    "import easyocr\n",
    "import warnings\n",
    "import re\n",
    "warnings.filterwarnings(\"ignore\")\n",
    "\n",
    "# YOLO 모델 로드\n",
    "plate_model = YOLO('carplate/train/weights/best.pt')\n",
    "color_model = YOLO('colordetection2/train/weights/best.pt')\n",
    "\n",
    "# EasyOCR 리더 객체 생성\n",
    "reader = easyocr.Reader(['ko'])\n",
    "\n",
    "# 동영상 파일 경로\n",
    "video_path = \"test1.avi\"\n",
    "\n",
    "# 동영상 캡처 객체 생성\n",
    "cap = cv2.VideoCapture(video_path)\n",
    "\n",
    "# 1초 간격으로 프레임 처리\n",
    "frame_interval = 1  # 1초 간격\n",
    "frame_count = 0\n",
    "frame_rate = int(cap.get(cv2.CAP_PROP_FPS))  # 프레임 레이트 가져오기\n",
    "\n",
    "# 출력할 텍스트 패턴 정규표현식 번호판이 앞에 2~3개가 숫자고 그 다음에 한글, 그다음에 숫자 4자리일 때만 출력\n",
    "pattern = r'^\\d{2,3}[가-힣]+\\d{4}$'\n",
    "\n",
    "while True:\n",
    "    ret, img = cap.read()\n",
    "    if not ret:\n",
    "        break\n",
    "    \n",
    "    flag = False\n",
    "\n",
    "    if frame_count % (frame_rate * frame_interval) == 0:\n",
    "        # 번호판 detection\n",
    "        plate_result = plate_model.predict(source=img, imgsz=640, verbose=False)\n",
    "        # 색깔 detection\n",
    "        color_result = color_model.predict(source=img, imgsz=640, conf=0.6, verbose=False)\n",
    "\n",
    "        # 예측된 바운딩 박스를 순회\n",
    "        for bbox in plate_result[0].boxes:\n",
    "            # 바운딩 박스 좌표 추출\n",
    "            x1, y1, x2, y2 = map(int, bbox.xyxy[0])\n",
    "            # 바운딩 박스 영역 크롭\n",
    "            cropped_img = img[y1:y2, x1:x2]\n",
    "             # 바운딩 박스가 화면 중앙 근처인지 판단\n",
    "            img_height, img_width, _ = img.shape\n",
    "            center_x = img_width // 2\n",
    "            bbox_center_x = (x1 + x2) // 2\n",
    "            # 바운딩 박스의 가로 위치가 중간 영역인지 판단\n",
    "            img_width = img.shape[1]\n",
    "            bbox_center_x = (x1 + x2) // 2\n",
    "            # 차량 넘버 플레이트가 화면 중앙 근처에 왔으면서, 색상 검출 bbox 가 있을때\n",
    "            if img_width // 3 <= bbox_center_x <= img_width * 3 // 3 and len(color_result[0].boxes.cls) > 0:\n",
    "                # EasyOCR을 사용하여 텍스트 인식\n",
    "                ocr_result = reader.readtext(cropped_img)\n",
    "                if len(ocr_result) > 0:\n",
    "                    # 인식된 텍스트 출력\n",
    "                    ocr_bbox, text, prob = ocr_result[0]\n",
    "                    text = re.sub('[^가-힣0-9]', '', text)\n",
    "                    # 번호판이 앞에 2~3개가 숫자고 그 다음에 한글, 그다음에 숫자 4자리일 때만 출력\n",
    "                    if re.match(pattern, text):\n",
    "                        print(f\"frame:{frame_count}, Detected text: {text}\")\n",
    "                        flag = True\n",
    "\n",
    "                    # 크롭된 이미지와 OCR 결과를 시각화 표시\n",
    "            # OCR 사진 확인용\n",
    "            plt.imshow(cv2.cvtColor(cropped_img, cv2.COLOR_BGR2RGB))\n",
    "            # 프레임 확인용\n",
    "            #plt.imshow(cv2.cvtColor(img, cv2.COLOR_BGR2RGB))\n",
    "            #plt.title(f\"Detected text: {text}\")\n",
    "            #plt.show()\n",
    "        if len(color_result[0].boxes.cls) > 0 and flag == True:\n",
    "            # 잡힌 클래스 출력\n",
    "            class_id = int(color_result[0].boxes.cls)\n",
    "            confidence = color_result[0].boxes.conf\n",
    "            class_name = color_model.names[class_id]\n",
    "            print(f\"frame:{frame_count},Carcolor:\", color_result[0].names[class_id])\n",
    "\n",
    "    frame_count += 1"
   ]
  },
  {
   "cell_type": "code",
   "execution_count": null,
   "metadata": {},
   "outputs": [],
   "source": [
    "plate_result = plate_model.predict(source=img, imgsz=640, verbose=False)"
   ]
  }
 ],
 "metadata": {
  "kernelspec": {
   "display_name": "torchenv",
   "language": "python",
   "name": "python3"
  },
  "language_info": {
   "codemirror_mode": {
    "name": "ipython",
    "version": 3
   },
   "file_extension": ".py",
   "mimetype": "text/x-python",
   "name": "python",
   "nbconvert_exporter": "python",
   "pygments_lexer": "ipython3",
   "version": "3.8.3"
  }
 },
 "nbformat": 4,
 "nbformat_minor": 2
}
